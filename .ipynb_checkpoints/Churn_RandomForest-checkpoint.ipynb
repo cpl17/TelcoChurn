{
 "cells": [
  {
   "cell_type": "markdown",
   "metadata": {
    "id": "1tOAkk-pLyUW"
   },
   "source": [
    "# Imports"
   ]
  },
  {
   "cell_type": "code",
   "execution_count": 7,
   "metadata": {
    "executionInfo": {
     "elapsed": 169,
     "status": "ok",
     "timestamp": 1643821414530,
     "user": {
      "displayName": "Chuck Lenny",
      "photoUrl": "https://lh3.googleusercontent.com/a/default-user=s64",
      "userId": "18406008629121395867"
     },
     "user_tz": 300
    },
    "id": "GaFToTBQLsi8"
   },
   "outputs": [],
   "source": [
    "import pandas as pd\n",
    "import numpy as np\n",
    "import matplotlib.pyplot as plt\n",
    "import seaborn as sns"
   ]
  },
  {
   "cell_type": "code",
   "execution_count": 8,
   "metadata": {
    "executionInfo": {
     "elapsed": 8,
     "status": "ok",
     "timestamp": 1643821414705,
     "user": {
      "displayName": "Chuck Lenny",
      "photoUrl": "https://lh3.googleusercontent.com/a/default-user=s64",
      "userId": "18406008629121395867"
     },
     "user_tz": 300
    },
    "id": "eHFhrsKHMlm0"
   },
   "outputs": [],
   "source": [
    "from sklearn.model_selection import train_test_split\n",
    "from sklearn.ensemble import RandomForestClassifier\n",
    "from sklearn.metrics import recall_score, precision_score, classification_report,accuracy_score,roc_auc_score,roc_curve\n",
    "from sklearn.model_selection import GridSearchCV,RandomizedSearchCV"
   ]
  },
  {
   "cell_type": "markdown",
   "metadata": {
    "id": "zdknIy55LwmU"
   },
   "source": [
    "# Data"
   ]
  },
  {
   "cell_type": "code",
   "execution_count": 9,
   "metadata": {
    "executionInfo": {
     "elapsed": 8,
     "status": "ok",
     "timestamp": 1643821414705,
     "user": {
      "displayName": "Chuck Lenny",
      "photoUrl": "https://lh3.googleusercontent.com/a/default-user=s64",
      "userId": "18406008629121395867"
     },
     "user_tz": 300
    },
    "id": "f2LNO5yNL3Gu"
   },
   "outputs": [],
   "source": [
    "path = \"/content/drive/MyDrive/Projects/Telco_Churn\""
   ]
  },
  {
   "cell_type": "code",
   "execution_count": 10,
   "metadata": {
    "executionInfo": {
     "elapsed": 8,
     "status": "ok",
     "timestamp": 1643821414706,
     "user": {
      "displayName": "Chuck Lenny",
      "photoUrl": "https://lh3.googleusercontent.com/a/default-user=s64",
      "userId": "18406008629121395867"
     },
     "user_tz": 300
    },
    "id": "j-fc40amLz0h"
   },
   "outputs": [],
   "source": [
    "data = pd.read_csv(path + \"/Data/telco_processed.csv\",index_col=0)  "
   ]
  },
  {
   "cell_type": "code",
   "execution_count": 11,
   "metadata": {
    "colab": {
     "base_uri": "https://localhost:8080/",
     "height": 270
    },
    "executionInfo": {
     "elapsed": 8,
     "status": "ok",
     "timestamp": 1643821414706,
     "user": {
      "displayName": "Chuck Lenny",
      "photoUrl": "https://lh3.googleusercontent.com/a/default-user=s64",
      "userId": "18406008629121395867"
     },
     "user_tz": 300
    },
    "id": "AMhKcA28MGQK",
    "outputId": "7c866f94-c2ee-46e9-b79e-24dfc879200d"
   },
   "outputs": [
    {
     "data": {
      "text/html": [
       "\n",
       "  <div id=\"df-f97da0e0-bbee-437f-afd8-793250fdf286\">\n",
       "    <div class=\"colab-df-container\">\n",
       "      <div>\n",
       "<style scoped>\n",
       "    .dataframe tbody tr th:only-of-type {\n",
       "        vertical-align: middle;\n",
       "    }\n",
       "\n",
       "    .dataframe tbody tr th {\n",
       "        vertical-align: top;\n",
       "    }\n",
       "\n",
       "    .dataframe thead th {\n",
       "        text-align: right;\n",
       "    }\n",
       "</style>\n",
       "<table border=\"1\" class=\"dataframe\">\n",
       "  <thead>\n",
       "    <tr style=\"text-align: right;\">\n",
       "      <th></th>\n",
       "      <th>Account_Length</th>\n",
       "      <th>Vmail_Message</th>\n",
       "      <th>Day_Mins</th>\n",
       "      <th>Eve_Mins</th>\n",
       "      <th>Night_Mins</th>\n",
       "      <th>Intl_Mins</th>\n",
       "      <th>CustServ_Calls</th>\n",
       "      <th>Churn</th>\n",
       "      <th>Intl_Plan</th>\n",
       "      <th>Vmail_Plan</th>\n",
       "      <th>Day_Calls</th>\n",
       "      <th>Day_Charge</th>\n",
       "      <th>Eve_Calls</th>\n",
       "      <th>Eve_Charge</th>\n",
       "      <th>Night_Calls</th>\n",
       "      <th>Night_Charge</th>\n",
       "      <th>Intl_Calls</th>\n",
       "      <th>Intl_Charge</th>\n",
       "      <th>State</th>\n",
       "    </tr>\n",
       "  </thead>\n",
       "  <tbody>\n",
       "    <tr>\n",
       "      <th>0</th>\n",
       "      <td>0.676489</td>\n",
       "      <td>1.234883</td>\n",
       "      <td>1.566767</td>\n",
       "      <td>-0.070610</td>\n",
       "      <td>0.866743</td>\n",
       "      <td>-0.085008</td>\n",
       "      <td>-0.427932</td>\n",
       "      <td>0</td>\n",
       "      <td>0</td>\n",
       "      <td>1</td>\n",
       "      <td>0.476643</td>\n",
       "      <td>1.567036</td>\n",
       "      <td>-0.055940</td>\n",
       "      <td>-0.070427</td>\n",
       "      <td>-0.465494</td>\n",
       "      <td>0.866029</td>\n",
       "      <td>-0.601195</td>\n",
       "      <td>-0.085690</td>\n",
       "      <td>0</td>\n",
       "    </tr>\n",
       "    <tr>\n",
       "      <th>1</th>\n",
       "      <td>0.149065</td>\n",
       "      <td>1.307948</td>\n",
       "      <td>-0.333738</td>\n",
       "      <td>-0.108080</td>\n",
       "      <td>1.058571</td>\n",
       "      <td>1.240482</td>\n",
       "      <td>-0.427932</td>\n",
       "      <td>0</td>\n",
       "      <td>0</td>\n",
       "      <td>1</td>\n",
       "      <td>1.124503</td>\n",
       "      <td>-0.334013</td>\n",
       "      <td>0.144867</td>\n",
       "      <td>-0.107549</td>\n",
       "      <td>0.147825</td>\n",
       "      <td>1.059390</td>\n",
       "      <td>-0.601195</td>\n",
       "      <td>1.241169</td>\n",
       "      <td>0</td>\n",
       "    </tr>\n",
       "    <tr>\n",
       "      <th>2</th>\n",
       "      <td>0.902529</td>\n",
       "      <td>-0.591760</td>\n",
       "      <td>1.168304</td>\n",
       "      <td>-1.573383</td>\n",
       "      <td>-0.756869</td>\n",
       "      <td>0.703121</td>\n",
       "      <td>-1.188218</td>\n",
       "      <td>0</td>\n",
       "      <td>0</td>\n",
       "      <td>0</td>\n",
       "      <td>0.675985</td>\n",
       "      <td>1.168464</td>\n",
       "      <td>0.496279</td>\n",
       "      <td>-1.573900</td>\n",
       "      <td>0.198935</td>\n",
       "      <td>-0.755571</td>\n",
       "      <td>0.211534</td>\n",
       "      <td>0.697156</td>\n",
       "      <td>1</td>\n",
       "    </tr>\n",
       "    <tr>\n",
       "      <th>3</th>\n",
       "      <td>-0.428590</td>\n",
       "      <td>-0.591760</td>\n",
       "      <td>2.196596</td>\n",
       "      <td>-2.742865</td>\n",
       "      <td>-0.078551</td>\n",
       "      <td>-1.303026</td>\n",
       "      <td>0.332354</td>\n",
       "      <td>0</td>\n",
       "      <td>1</td>\n",
       "      <td>0</td>\n",
       "      <td>-1.466936</td>\n",
       "      <td>2.196759</td>\n",
       "      <td>-0.608159</td>\n",
       "      <td>-2.743268</td>\n",
       "      <td>-0.567714</td>\n",
       "      <td>-0.078806</td>\n",
       "      <td>1.024263</td>\n",
       "      <td>-1.306401</td>\n",
       "      <td>0</td>\n",
       "    </tr>\n",
       "    <tr>\n",
       "      <th>4</th>\n",
       "      <td>-0.654629</td>\n",
       "      <td>-0.591760</td>\n",
       "      <td>-0.240090</td>\n",
       "      <td>-1.038932</td>\n",
       "      <td>-0.276311</td>\n",
       "      <td>-0.049184</td>\n",
       "      <td>1.092641</td>\n",
       "      <td>0</td>\n",
       "      <td>1</td>\n",
       "      <td>0</td>\n",
       "      <td>0.626149</td>\n",
       "      <td>-0.240041</td>\n",
       "      <td>1.098699</td>\n",
       "      <td>-1.037939</td>\n",
       "      <td>1.067803</td>\n",
       "      <td>-0.276562</td>\n",
       "      <td>-0.601195</td>\n",
       "      <td>-0.045885</td>\n",
       "      <td>0</td>\n",
       "    </tr>\n",
       "  </tbody>\n",
       "</table>\n",
       "</div>\n",
       "      <button class=\"colab-df-convert\" onclick=\"convertToInteractive('df-f97da0e0-bbee-437f-afd8-793250fdf286')\"\n",
       "              title=\"Convert this dataframe to an interactive table.\"\n",
       "              style=\"display:none;\">\n",
       "        \n",
       "  <svg xmlns=\"http://www.w3.org/2000/svg\" height=\"24px\"viewBox=\"0 0 24 24\"\n",
       "       width=\"24px\">\n",
       "    <path d=\"M0 0h24v24H0V0z\" fill=\"none\"/>\n",
       "    <path d=\"M18.56 5.44l.94 2.06.94-2.06 2.06-.94-2.06-.94-.94-2.06-.94 2.06-2.06.94zm-11 1L8.5 8.5l.94-2.06 2.06-.94-2.06-.94L8.5 2.5l-.94 2.06-2.06.94zm10 10l.94 2.06.94-2.06 2.06-.94-2.06-.94-.94-2.06-.94 2.06-2.06.94z\"/><path d=\"M17.41 7.96l-1.37-1.37c-.4-.4-.92-.59-1.43-.59-.52 0-1.04.2-1.43.59L10.3 9.45l-7.72 7.72c-.78.78-.78 2.05 0 2.83L4 21.41c.39.39.9.59 1.41.59.51 0 1.02-.2 1.41-.59l7.78-7.78 2.81-2.81c.8-.78.8-2.07 0-2.86zM5.41 20L4 18.59l7.72-7.72 1.47 1.35L5.41 20z\"/>\n",
       "  </svg>\n",
       "      </button>\n",
       "      \n",
       "  <style>\n",
       "    .colab-df-container {\n",
       "      display:flex;\n",
       "      flex-wrap:wrap;\n",
       "      gap: 12px;\n",
       "    }\n",
       "\n",
       "    .colab-df-convert {\n",
       "      background-color: #E8F0FE;\n",
       "      border: none;\n",
       "      border-radius: 50%;\n",
       "      cursor: pointer;\n",
       "      display: none;\n",
       "      fill: #1967D2;\n",
       "      height: 32px;\n",
       "      padding: 0 0 0 0;\n",
       "      width: 32px;\n",
       "    }\n",
       "\n",
       "    .colab-df-convert:hover {\n",
       "      background-color: #E2EBFA;\n",
       "      box-shadow: 0px 1px 2px rgba(60, 64, 67, 0.3), 0px 1px 3px 1px rgba(60, 64, 67, 0.15);\n",
       "      fill: #174EA6;\n",
       "    }\n",
       "\n",
       "    [theme=dark] .colab-df-convert {\n",
       "      background-color: #3B4455;\n",
       "      fill: #D2E3FC;\n",
       "    }\n",
       "\n",
       "    [theme=dark] .colab-df-convert:hover {\n",
       "      background-color: #434B5C;\n",
       "      box-shadow: 0px 1px 3px 1px rgba(0, 0, 0, 0.15);\n",
       "      filter: drop-shadow(0px 1px 2px rgba(0, 0, 0, 0.3));\n",
       "      fill: #FFFFFF;\n",
       "    }\n",
       "  </style>\n",
       "\n",
       "      <script>\n",
       "        const buttonEl =\n",
       "          document.querySelector('#df-f97da0e0-bbee-437f-afd8-793250fdf286 button.colab-df-convert');\n",
       "        buttonEl.style.display =\n",
       "          google.colab.kernel.accessAllowed ? 'block' : 'none';\n",
       "\n",
       "        async function convertToInteractive(key) {\n",
       "          const element = document.querySelector('#df-f97da0e0-bbee-437f-afd8-793250fdf286');\n",
       "          const dataTable =\n",
       "            await google.colab.kernel.invokeFunction('convertToInteractive',\n",
       "                                                     [key], {});\n",
       "          if (!dataTable) return;\n",
       "\n",
       "          const docLinkHtml = 'Like what you see? Visit the ' +\n",
       "            '<a target=\"_blank\" href=https://colab.research.google.com/notebooks/data_table.ipynb>data table notebook</a>'\n",
       "            + ' to learn more about interactive tables.';\n",
       "          element.innerHTML = '';\n",
       "          dataTable['output_type'] = 'display_data';\n",
       "          await google.colab.output.renderOutput(dataTable, element);\n",
       "          const docLink = document.createElement('div');\n",
       "          docLink.innerHTML = docLinkHtml;\n",
       "          element.appendChild(docLink);\n",
       "        }\n",
       "      </script>\n",
       "    </div>\n",
       "  </div>\n",
       "  "
      ],
      "text/plain": [
       "   Account_Length  Vmail_Message  Day_Mins  ...  Intl_Calls  Intl_Charge  State\n",
       "0        0.676489       1.234883  1.566767  ...   -0.601195    -0.085690      0\n",
       "1        0.149065       1.307948 -0.333738  ...   -0.601195     1.241169      0\n",
       "2        0.902529      -0.591760  1.168304  ...    0.211534     0.697156      1\n",
       "3       -0.428590      -0.591760  2.196596  ...    1.024263    -1.306401      0\n",
       "4       -0.654629      -0.591760 -0.240090  ...   -0.601195    -0.045885      0\n",
       "\n",
       "[5 rows x 19 columns]"
      ]
     },
     "execution_count": 11,
     "metadata": {},
     "output_type": "execute_result"
    }
   ],
   "source": [
    "data.head()"
   ]
  },
  {
   "cell_type": "code",
   "execution_count": 12,
   "metadata": {
    "executionInfo": {
     "elapsed": 249,
     "status": "ok",
     "timestamp": 1643821414950,
     "user": {
      "displayName": "Chuck Lenny",
      "photoUrl": "https://lh3.googleusercontent.com/a/default-user=s64",
      "userId": "18406008629121395867"
     },
     "user_tz": 300
    },
    "id": "id8RfUPNMkui"
   },
   "outputs": [],
   "source": [
    "target = 'Churn'\n",
    "features = data.columns.drop(\"Churn\")"
   ]
  },
  {
   "cell_type": "code",
   "execution_count": 13,
   "metadata": {
    "executionInfo": {
     "elapsed": 10,
     "status": "ok",
     "timestamp": 1643821414951,
     "user": {
      "displayName": "Chuck Lenny",
      "photoUrl": "https://lh3.googleusercontent.com/a/default-user=s64",
      "userId": "18406008629121395867"
     },
     "user_tz": 300
    },
    "id": "kFxyPHY-NpRz"
   },
   "outputs": [],
   "source": [
    "X = data[features]\n",
    "y = data[target]"
   ]
  },
  {
   "cell_type": "code",
   "execution_count": 14,
   "metadata": {
    "executionInfo": {
     "elapsed": 9,
     "status": "ok",
     "timestamp": 1643821414951,
     "user": {
      "displayName": "Chuck Lenny",
      "photoUrl": "https://lh3.googleusercontent.com/a/default-user=s64",
      "userId": "18406008629121395867"
     },
     "user_tz": 300
    },
    "id": "38hl_PmpNjn5"
   },
   "outputs": [],
   "source": [
    "X_train, X_test, y_train, y_test = train_test_split(X, y, test_size=0.3)"
   ]
  },
  {
   "cell_type": "code",
   "execution_count": 15,
   "metadata": {
    "colab": {
     "base_uri": "https://localhost:8080/"
    },
    "executionInfo": {
     "elapsed": 11,
     "status": "ok",
     "timestamp": 1643821414953,
     "user": {
      "displayName": "Chuck Lenny",
      "photoUrl": "https://lh3.googleusercontent.com/a/default-user=s64",
      "userId": "18406008629121395867"
     },
     "user_tz": 300
    },
    "id": "sMAhVHy7N1wE",
    "outputId": "fbf05865-c2f4-41ba-ec2e-651b04af6d8b"
   },
   "outputs": [
    {
     "name": "stdout",
     "output_type": "stream",
     "text": [
      "(2333, 18)\n",
      "(1000, 18)\n"
     ]
    }
   ],
   "source": [
    "for df in [X_train,X_test]:\n",
    "  print(df.shape)"
   ]
  },
  {
   "cell_type": "markdown",
   "metadata": {
    "id": "llhEAxPAMMd6"
   },
   "source": [
    "# Random Forest"
   ]
  },
  {
   "cell_type": "markdown",
   "metadata": {
    "id": "lfQgX-ahwzDT"
   },
   "source": [
    "## Default Parameters"
   ]
  },
  {
   "cell_type": "code",
   "execution_count": 21,
   "metadata": {
    "executionInfo": {
     "elapsed": 135,
     "status": "ok",
     "timestamp": 1643821683529,
     "user": {
      "displayName": "Chuck Lenny",
      "photoUrl": "https://lh3.googleusercontent.com/a/default-user=s64",
      "userId": "18406008629121395867"
     },
     "user_tz": 300
    },
    "id": "g7ompvD6ZtHc"
   },
   "outputs": [],
   "source": [
    "def get_AUC(model):\n",
    "  y_pred_prob = model.predict_proba(X_test)[:, 1]\n",
    "  print(roc_auc_score(y_test, y_pred_prob))"
   ]
  },
  {
   "cell_type": "code",
   "execution_count": 52,
   "metadata": {
    "colab": {
     "base_uri": "https://localhost:8080/"
    },
    "executionInfo": {
     "elapsed": 737,
     "status": "ok",
     "timestamp": 1643822482332,
     "user": {
      "displayName": "Chuck Lenny",
      "photoUrl": "https://lh3.googleusercontent.com/a/default-user=s64",
      "userId": "18406008629121395867"
     },
     "user_tz": 300
    },
    "id": "vqiBPM_Bxq_2",
    "outputId": "d24a5f54-2924-470b-df56-4d3a4494f2cc"
   },
   "outputs": [
    {
     "data": {
      "text/plain": [
       "RandomForestClassifier(random_state=20200226)"
      ]
     },
     "execution_count": 52,
     "metadata": {},
     "output_type": "execute_result"
    }
   ],
   "source": [
    "clf = RandomForestClassifier(random_state = 20200226)\n",
    "clf.fit(X_train,y_train)"
   ]
  },
  {
   "cell_type": "code",
   "execution_count": 53,
   "metadata": {
    "colab": {
     "base_uri": "https://localhost:8080/"
    },
    "executionInfo": {
     "elapsed": 165,
     "status": "ok",
     "timestamp": 1643822483873,
     "user": {
      "displayName": "Chuck Lenny",
      "photoUrl": "https://lh3.googleusercontent.com/a/default-user=s64",
      "userId": "18406008629121395867"
     },
     "user_tz": 300
    },
    "id": "Yb47asB5WEBF",
    "outputId": "8c3e3eaa-f996-48d4-a712-37b8356df7e9"
   },
   "outputs": [
    {
     "name": "stdout",
     "output_type": "stream",
     "text": [
      "0.9126053704013845\n"
     ]
    }
   ],
   "source": [
    "# Print the AUC\n",
    "get_AUC(clf)"
   ]
  },
  {
   "cell_type": "markdown",
   "metadata": {
    "id": "Q2sE8BOKXHYA"
   },
   "source": [
    "# Model Tuning"
   ]
  },
  {
   "cell_type": "markdown",
   "metadata": {
    "id": "AoQ2XAk0yX-T"
   },
   "source": [
    "**Test different determinants of max_features**"
   ]
  },
  {
   "cell_type": "code",
   "execution_count": 55,
   "metadata": {
    "colab": {
     "base_uri": "https://localhost:8080/"
    },
    "executionInfo": {
     "elapsed": 8663,
     "status": "ok",
     "timestamp": 1643822530346,
     "user": {
      "displayName": "Chuck Lenny",
      "photoUrl": "https://lh3.googleusercontent.com/a/default-user=s64",
      "userId": "18406008629121395867"
     },
     "user_tz": 300
    },
    "id": "XHleX1hobr9g",
    "outputId": "f349e596-4f44-4401-b322-f8e1003fbe12"
   },
   "outputs": [
    {
     "data": {
      "text/plain": [
       "GridSearchCV(estimator=RandomForestClassifier(random_state=20200226),\n",
       "             param_grid={'max_features': ['auto', 'sqrt', 'log2']})"
      ]
     },
     "execution_count": 55,
     "metadata": {},
     "output_type": "execute_result"
    }
   ],
   "source": [
    "# Create the hyperparameter grid\n",
    "param_grid = {'max_features': ['auto', 'sqrt', 'log2']}\n",
    "grid_search = GridSearchCV(clf, param_grid)\n",
    "grid_search.fit(X_train, y_train)"
   ]
  },
  {
   "cell_type": "code",
   "execution_count": 56,
   "metadata": {
    "colab": {
     "base_uri": "https://localhost:8080/"
    },
    "executionInfo": {
     "elapsed": 151,
     "status": "ok",
     "timestamp": 1643822533250,
     "user": {
      "displayName": "Chuck Lenny",
      "photoUrl": "https://lh3.googleusercontent.com/a/default-user=s64",
      "userId": "18406008629121395867"
     },
     "user_tz": 300
    },
    "id": "0jPDHqVZyNTu",
    "outputId": "70f08e2d-2cfe-4f3f-fce2-25ba098e27a1"
   },
   "outputs": [
    {
     "name": "stdout",
     "output_type": "stream",
     "text": [
      "{'max_features': 'auto'}\n"
     ]
    }
   ],
   "source": [
    "# Print the optimal parameters\n",
    "print(grid_search.best_params_)"
   ]
  },
  {
   "cell_type": "code",
   "execution_count": 57,
   "metadata": {
    "colab": {
     "base_uri": "https://localhost:8080/"
    },
    "executionInfo": {
     "elapsed": 144,
     "status": "ok",
     "timestamp": 1643822538577,
     "user": {
      "displayName": "Chuck Lenny",
      "photoUrl": "https://lh3.googleusercontent.com/a/default-user=s64",
      "userId": "18406008629121395867"
     },
     "user_tz": 300
    },
    "id": "1qsITdaZaHa-",
    "outputId": "08105834-b933-496e-a0d0-932faca5ede0"
   },
   "outputs": [
    {
     "name": "stdout",
     "output_type": "stream",
     "text": [
      "0.9126053704013845\n"
     ]
    }
   ],
   "source": [
    "get_AUC(grid_search)"
   ]
  },
  {
   "cell_type": "markdown",
   "metadata": {
    "id": "VuhKcZIXdaAC"
   },
   "source": [
    "So the default performs best"
   ]
  },
  {
   "cell_type": "markdown",
   "metadata": {
    "id": "_WyamrzNygnv"
   },
   "source": [
    "**Expand the hyperparameter search**"
   ]
  },
  {
   "cell_type": "code",
   "execution_count": 59,
   "metadata": {
    "colab": {
     "base_uri": "https://localhost:8080/"
    },
    "executionInfo": {
     "elapsed": 92141,
     "status": "ok",
     "timestamp": 1643822813516,
     "user": {
      "displayName": "Chuck Lenny",
      "photoUrl": "https://lh3.googleusercontent.com/a/default-user=s64",
      "userId": "18406008629121395867"
     },
     "user_tz": 300
    },
    "id": "wjwz2bMib3c4",
    "outputId": "1735cf12-d5b9-4ffe-dbcd-6a588031a880"
   },
   "outputs": [
    {
     "data": {
      "text/plain": [
       "GridSearchCV(estimator=RandomForestClassifier(random_state=20200226),\n",
       "             param_grid={'bootstrap': [True, False],\n",
       "                         'criterion': ['gini', 'entropy'],\n",
       "                         'max_depth': [3, None],\n",
       "                         'max_features': [1, 3, 10, 'auto']})"
      ]
     },
     "execution_count": 59,
     "metadata": {},
     "output_type": "execute_result"
    }
   ],
   "source": [
    "param_grid = {\"max_depth\": [3, None],\n",
    "              \"max_features\": [1, 3, 10, 'auto'],\n",
    "              \"bootstrap\": [True, False],\n",
    "              \"criterion\": [\"gini\", \"entropy\"]}\n",
    "\n",
    "grid_search = GridSearchCV(clf, param_grid)\n",
    "grid_search.fit(X_train, y_train)"
   ]
  },
  {
   "cell_type": "code",
   "execution_count": 60,
   "metadata": {
    "colab": {
     "base_uri": "https://localhost:8080/"
    },
    "executionInfo": {
     "elapsed": 206,
     "status": "ok",
     "timestamp": 1643822817015,
     "user": {
      "displayName": "Chuck Lenny",
      "photoUrl": "https://lh3.googleusercontent.com/a/default-user=s64",
      "userId": "18406008629121395867"
     },
     "user_tz": 300
    },
    "id": "-BxgRZnxyr_6",
    "outputId": "1c4a30ae-ef0e-42a8-b694-e94bc4a3b1db"
   },
   "outputs": [
    {
     "name": "stdout",
     "output_type": "stream",
     "text": [
      "{'bootstrap': True, 'criterion': 'entropy', 'max_depth': None, 'max_features': 10}\n"
     ]
    }
   ],
   "source": [
    "print(grid_search.best_params_)"
   ]
  },
  {
   "cell_type": "markdown",
   "metadata": {
    "id": "GQ-Vg7ZQxWHv"
   },
   "source": [
    "# Final Model Evaluation"
   ]
  },
  {
   "cell_type": "code",
   "execution_count": 61,
   "metadata": {
    "colab": {
     "base_uri": "https://localhost:8080/",
     "height": 279
    },
    "executionInfo": {
     "elapsed": 511,
     "status": "ok",
     "timestamp": 1643822820611,
     "user": {
      "displayName": "Chuck Lenny",
      "photoUrl": "https://lh3.googleusercontent.com/a/default-user=s64",
      "userId": "18406008629121395867"
     },
     "user_tz": 300
    },
    "id": "k3LOmempyCUN",
    "outputId": "d2407c62-08bd-43c6-fc39-7b73579ea0d2"
   },
   "outputs": [
    {
     "data": {
      "image/png": "[encoded data removed]",
      "text/plain": [
       "<Figure size 432x288 with 1 Axes>"
      ]
     },
     "metadata": {
      "needs_background": "light"
     },
     "output_type": "display_data"
    }
   ],
   "source": [
    "y_pred_prob = grid_search.predict_proba(X_test)[:, 1]\n",
    "\n",
    "# Calculate the roc metrics\n",
    "fpr, tpr, thresholds = roc_curve(y_test, y_pred_prob)\n",
    "\n",
    "# Plot the ROC curve\n",
    "plt.plot(fpr, tpr)\n",
    "\n",
    "# Add labels and diagonal line\n",
    "plt.xlabel(\"False Positive Rate\")\n",
    "plt.ylabel(\"True Positive Rate\")\n",
    "plt.plot([0, 1], [0, 1], \"k--\")\n",
    "plt.show()"
   ]
  },
  {
   "cell_type": "code",
   "execution_count": 62,
   "metadata": {
    "colab": {
     "base_uri": "https://localhost:8080/"
    },
    "executionInfo": {
     "elapsed": 169,
     "status": "ok",
     "timestamp": 1643822823632,
     "user": {
      "displayName": "Chuck Lenny",
      "photoUrl": "https://lh3.googleusercontent.com/a/default-user=s64",
      "userId": "18406008629121395867"
     },
     "user_tz": 300
    },
    "id": "pIu2gHEczek5",
    "outputId": "1d5ef88f-7767-410a-c26e-63e09fa30fd1"
   },
   "outputs": [
    {
     "name": "stdout",
     "output_type": "stream",
     "text": [
      "0.9203890231356319\n"
     ]
    }
   ],
   "source": [
    "# Print the AUC\n",
    "print(roc_auc_score(y_test, y_pred_prob))"
   ]
  },
  {
   "cell_type": "markdown",
   "metadata": {
    "id": "rGK3YYg7cnkX"
   },
   "source": [
    "# Feature Importances"
   ]
  },
  {
   "cell_type": "code",
   "execution_count": 63,
   "metadata": {
    "executionInfo": {
     "elapsed": 154,
     "status": "ok",
     "timestamp": 1643822849768,
     "user": {
      "displayName": "Chuck Lenny",
      "photoUrl": "https://lh3.googleusercontent.com/a/default-user=s64",
      "userId": "18406008629121395867"
     },
     "user_tz": 300
    },
    "id": "MzlHqZ_Xa_Ag"
   },
   "outputs": [],
   "source": [
    "clf = grid_search.best_estimator_\n",
    "importances = clf.feature_importances_"
   ]
  },
  {
   "cell_type": "code",
   "execution_count": 64,
   "metadata": {
    "colab": {
     "base_uri": "https://localhost:8080/",
     "height": 265
    },
    "executionInfo": {
     "elapsed": 391,
     "status": "ok",
     "timestamp": 1643822851380,
     "user": {
      "displayName": "Chuck Lenny",
      "photoUrl": "https://lh3.googleusercontent.com/a/default-user=s64",
      "userId": "18406008629121395867"
     },
     "user_tz": 300
    },
    "id": "WWebwJJic7qR",
    "outputId": "f1a6f2d2-7a35-46db-9316-1aa8b8dd365e"
   },
   "outputs": [
    {
     "data": {
      "image/png": "[encoded data removed]",
      "text/plain": [
       "<Figure size 432x288 with 1 Axes>"
      ]
     },
     "metadata": {
      "needs_background": "light"
     },
     "output_type": "display_data"
    }
   ],
   "source": [
    "# Sort importances\n",
    "sorted_index = np.argsort(importances)\n",
    "\n",
    "# Create labels\n",
    "labels = X.columns[sorted_index]\n",
    "\n",
    "# Clear current plot\n",
    "plt.clf()\n",
    "\n",
    "# Create plot\n",
    "plt.barh(range(X.shape[1]), importances[sorted_index], tick_label=labels)\n",
    "plt.show()"
   ]
  }
 ],
 "metadata": {
  "colab": {
   "authorship_tag": "ABX9TyMI/zROwH4sAISGKTlAbToh",
   "collapsed_sections": [],
   "mount_file_id": "1w5Y9T3sIFyL8iyosj0EjB7522Bt-tyVT",
   "name": "Churn_RandomForest.ipynb",
   "provenance": []
  },
  "kernelspec": {
   "display_name": "Python 3",
   "language": "python",
   "name": "python3"
  },
  "language_info": {
   "codemirror_mode": {
    "name": "ipython",
    "version": 3
   },
   "file_extension": ".py",
   "mimetype": "text/x-python",
   "name": "python",
   "nbconvert_exporter": "python",
   "pygments_lexer": "ipython3",
   "version": "3.8.5"
  }
 },
 "nbformat": 4,
 "nbformat_minor": 4
}
